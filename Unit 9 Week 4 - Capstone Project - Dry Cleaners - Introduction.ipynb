{
 "cells": [
  {
   "cell_type": "markdown",
   "metadata": {},
   "source": [
    "![Coursera Logo](https://ibm.box.com/shared/static/9gegpsmnsoo25ikkbl4qzlvlyjbgxs5x.png)\n",
    "\n",
    "##  <center> Viability of opening a Dry Cleaning business in Brooklyn, NY </center>"
   ]
  },
  {
   "cell_type": "markdown",
   "metadata": {},
   "source": [
    "## <font color='blue'>Business Problem</font>\n",
    "\n",
    "A family friend (Lucy) was tired of working for a large marketing firm in Manhattan and since she was already working 80 hour weeks, she decided that she would partner with her parents and siblings to open a dry cleaning business in the the New York Borough of Brooklyn, where most of her family lived. \n",
    "\n",
    "The parents once had a dry cleaning business in Merida Spain, so they would be the business experts, while Lucy and her siblings would provide the labor. One of her sisters had a business background, so she would provide the business prowness.\n",
    "\n",
    "The issue on hand was to find a location within Brooklyn that would be the best location for their new business. The location needed to serve a neighborhood that did not have a high density of dry cleaners already located within a half mile.\n",
    "\n"
   ]
  },
  {
   "cell_type": "markdown",
   "metadata": {},
   "source": [
    "## <font color='blue'>Table of Contents</font>\n",
    "\n",
    "1. Data Description\n",
    "2. Methodology\n",
    "3. Results\n",
    "4. Conclusion"
   ]
  },
  {
   "cell_type": "code",
   "execution_count": null,
   "metadata": {},
   "outputs": [],
   "source": []
  }
 ],
 "metadata": {
  "kernelspec": {
   "display_name": "Python 3",
   "language": "python",
   "name": "python3"
  },
  "language_info": {
   "codemirror_mode": {
    "name": "ipython",
    "version": 3
   },
   "file_extension": ".py",
   "mimetype": "text/x-python",
   "name": "python",
   "nbconvert_exporter": "python",
   "pygments_lexer": "ipython3",
   "version": "3.7.1"
  },
  "widgets": {
   "state": {},
   "version": "1.1.2"
  }
 },
 "nbformat": 4,
 "nbformat_minor": 4
}
