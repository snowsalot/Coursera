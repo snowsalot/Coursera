{
 "cells": [
  {
   "cell_type": "markdown",
   "metadata": {},
   "source": [
    "<a href=\"https://cognitiveclass.ai\"><img src = \"https://ibm.box.com/shared/static/9gegpsmnsoo25ikkbl4qzlvlyjbgxs5x.png\" width = 400> </a>\n",
    "\n",
    "<h1 align=center><font size = 5>Viability of opening a Dry Cleaning business in Brooklyn, NY</font></h1>"
   ]
  },
  {
   "cell_type": "markdown",
   "metadata": {},
   "source": [
    "## Business Problem\n",
    "\n",
    "A family friend (Lucy) was tired of working for a large marketing firm in Manhattan and since she was already working 80 hour weeks, she decided that she would partner with her parents and siblings to open a dry cleaning business in the the New York Borough of Brooklyn, where most of her family lived. \n",
    "\n",
    "The parents once had a dry cleaning business in Merida Spain, so they would be the business experts, while Lucy and her siblings would provide the labor. One of her sisters had a business background, so she would provide the business prowness.\n",
    "\n",
    "The issue on hand was to find a location within Brooklyn that would be the best location for their new business. The location needed to serve a neighborhood that did not have a high density of dry cleaners already located within a half mile.\n",
    "\n"
   ]
  },
  {
   "cell_type": "markdown",
   "metadata": {},
   "source": [
    "## Table of Contents\n",
    "\n",
    "<div class=\"alert alert-block alert-info\" style=\"margin-top: 20px\">\n",
    "\n",
    "<font size = 3>\n",
    "\n",
    "1. <a href=\"#item1\">Data Description</a>\n",
    "\n",
    "2. <a href=\"#item2\">Methodology</a>\n",
    "\n",
    "3. <a href=\"#item3\">Results</a>\n",
    "\n",
    "4. <a href=\"#item4\">Conclusion</a>\n",
    "\n",
    "</font>\n",
    "</div>"
   ]
  }
 ],
 "metadata": {
  "kernelspec": {
   "display_name": "Python 3",
   "language": "python",
   "name": "python3"
  },
  "language_info": {
   "codemirror_mode": {
    "name": "ipython",
    "version": 3
   },
   "file_extension": ".py",
   "mimetype": "text/x-python",
   "name": "python",
   "nbconvert_exporter": "python",
   "pygments_lexer": "ipython3",
   "version": "3.7.1"
  },
  "widgets": {
   "state": {},
   "version": "1.1.2"
  }
 },
 "nbformat": 4,
 "nbformat_minor": 4
}
